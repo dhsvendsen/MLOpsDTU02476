{
 "cells": [
  {
   "cell_type": "code",
   "execution_count": 1,
   "id": "ab5b9724",
   "metadata": {},
   "outputs": [],
   "source": [
    "import numpy as np\n",
    "import matplotlib.pyplot as plt"
   ]
  },
  {
   "cell_type": "code",
   "execution_count": 2,
   "id": "4097ff76",
   "metadata": {},
   "outputs": [
    {
     "name": "stdout",
     "output_type": "stream",
     "text": [
      "images\n",
      "labels\n",
      "allow_pickle\n"
     ]
    }
   ],
   "source": [
    "t0 = np.load('train_4.npz')\n",
    "for key in t0.keys():\n",
    "    print(key)"
   ]
  },
  {
   "cell_type": "code",
   "execution_count": 7,
   "id": "78858e3d",
   "metadata": {},
   "outputs": [
    {
     "data": {
      "text/plain": [
       "(5000, 28, 28)"
      ]
     },
     "execution_count": 7,
     "metadata": {},
     "output_type": "execute_result"
    }
   ],
   "source": [
    "x0 = t0['images']\n",
    "y0 = t0['labels']\n",
    "x0.shape"
   ]
  },
  {
   "cell_type": "code",
   "execution_count": 9,
   "id": "5c1baec7",
   "metadata": {
    "scrolled": false
   },
   "outputs": [
    {
     "name": "stdout",
     "output_type": "stream",
     "text": [
      "4\n",
      "5\n",
      "4\n",
      "5\n",
      "1\n"
     ]
    },
    {
     "data": {
      "image/png": "[encoded data removed]",
      "text/plain": [
       "<Figure size 216x216 with 1 Axes>"
      ]
     },
     "metadata": {
      "needs_background": "light"
     },
     "output_type": "display_data"
    },
    {
     "data": {
      "image/png": "[encoded data removed]",
      "text/plain": [
       "<Figure size 216x216 with 1 Axes>"
      ]
     },
     "metadata": {
      "needs_background": "light"
     },
     "output_type": "display_data"
    },
    {
     "data": {
      "image/png": "[encoded data removed]",
      "text/plain": [
       "<Figure size 216x216 with 1 Axes>"
      ]
     },
     "metadata": {
      "needs_background": "light"
     },
     "output_type": "display_data"
    },
    {
     "data": {
      "image/png": "[encoded data removed]",
      "text/plain": [
       "<Figure size 216x216 with 1 Axes>"
      ]
     },
     "metadata": {
      "needs_background": "light"
     },
     "output_type": "display_data"
    },
    {
     "data": {
      "image/png": "[encoded data removed]",
      "text/plain": [
       "<Figure size 216x216 with 1 Axes>"
      ]
     },
     "metadata": {
      "needs_background": "light"
     },
     "output_type": "display_data"
    }
   ],
   "source": [
    "for i in np.random.randint(0,5000,5):\n",
    "    plt.figure(figsize=[3,3])\n",
    "    plt.imshow(x0[i])\n",
    "    print(y0[i])"
   ]
  },
  {
   "cell_type": "code",
   "execution_count": 21,
   "id": "6d8d54e1",
   "metadata": {},
   "outputs": [],
   "source": [
    "datax = []\n",
    "datay = []\n",
    "for i in range(5):\n",
    "    datax.append(np.load('train_{}.npz'.format(i))['images'])\n",
    "    datay.append(np.load('train_{}.npz'.format(i))['labels'])"
   ]
  },
  {
   "cell_type": "code",
   "execution_count": 22,
   "id": "adff0f21",
   "metadata": {},
   "outputs": [],
   "source": [
    "x_train = np.concatenate(datax, axis=0)\n",
    "y_train = np.concatenate(datay, axis=0)"
   ]
  },
  {
   "cell_type": "code",
   "execution_count": 23,
   "id": "b11865c3",
   "metadata": {},
   "outputs": [],
   "source": [
    "x_test = np.load('test.npz'.format(i))['images']\n",
    "y_test = np.load('test.npz'.format(i))['labels']"
   ]
  },
  {
   "cell_type": "code",
   "execution_count": 24,
   "id": "d11b1157",
   "metadata": {},
   "outputs": [
    {
     "name": "stdout",
     "output_type": "stream",
     "text": [
      "x_train shape: (25000, 28, 28, 1)\n",
      "25000 train samples\n",
      "5000 test samples\n"
     ]
    }
   ],
   "source": [
    "from tensorflow import keras\n",
    "from tensorflow.keras import layers\n",
    "\n",
    "num_classes = 10\n",
    "input_shape = (28, 28, 1)\n",
    "\n",
    "\n",
    "# Scale images to the [0, 1] range\n",
    "x_train = x_train.astype(\"float32\") / 255\n",
    "x_test = x_test.astype(\"float32\") / 255\n",
    "# Make sure images have shape (28, 28, 1)\n",
    "x_train = np.expand_dims(x_train, -1)\n",
    "x_test = np.expand_dims(x_test, -1)\n",
    "print(\"x_train shape:\", x_train.shape)\n",
    "print(x_train.shape[0], \"train samples\")\n",
    "print(x_test.shape[0], \"test samples\")\n",
    "\n",
    "\n",
    "# convert class vectors to binary class matrices\n",
    "y_train = keras.utils.to_categorical(y_train, num_classes)\n",
    "y_test = keras.utils.to_categorical(y_test, num_classes)\n",
    "\n"
   ]
  },
  {
   "cell_type": "code",
   "execution_count": 25,
   "id": "54fda642",
   "metadata": {},
   "outputs": [
    {
     "name": "stdout",
     "output_type": "stream",
     "text": [
      "Metal device set to: Apple M1 Pro\n"
     ]
    },
    {
     "name": "stderr",
     "output_type": "stream",
     "text": [
      "2022-12-15 09:43:11.316808: I tensorflow/core/common_runtime/pluggable_device/pluggable_device_factory.cc:305] Could not identify NUMA node of platform GPU ID 0, defaulting to 0. Your kernel may not have been built with NUMA support.\n",
      "2022-12-15 09:43:11.317535: I tensorflow/core/common_runtime/pluggable_device/pluggable_device_factory.cc:271] Created TensorFlow device (/job:localhost/replica:0/task:0/device:GPU:0 with 0 MB memory) -> physical PluggableDevice (device: 0, name: METAL, pci bus id: <undefined>)\n"
     ]
    }
   ],
   "source": [
    "model = keras.Sequential(\n",
    "    [\n",
    "        keras.Input(shape=input_shape),\n",
    "        layers.Conv2D(32, kernel_size=(3, 3), activation=\"relu\"),\n",
    "        layers.MaxPooling2D(pool_size=(2, 2)),\n",
    "        layers.Conv2D(64, kernel_size=(3, 3), activation=\"relu\"),\n",
    "        layers.MaxPooling2D(pool_size=(2, 2)),\n",
    "        layers.Flatten(),\n",
    "        layers.Dropout(0.5),\n",
    "        layers.Dense(num_classes, activation=\"softmax\"),\n",
    "    ]\n",
    ")"
   ]
  },
  {
   "cell_type": "code",
   "execution_count": 26,
   "id": "f36c1b8b",
   "metadata": {},
   "outputs": [
    {
     "name": "stdout",
     "output_type": "stream",
     "text": [
      "Epoch 1/15\n"
     ]
    },
    {
     "name": "stderr",
     "output_type": "stream",
     "text": [
      "2022-12-15 09:43:32.716399: W tensorflow/core/platform/profile_utils/cpu_utils.cc:128] Failed to get CPU frequency: 0 Hz\n",
      "2022-12-15 09:43:32.998558: I tensorflow/core/grappler/optimizers/custom_graph_optimizer_registry.cc:113] Plugin optimizer for device_type GPU is enabled.\n"
     ]
    },
    {
     "name": "stdout",
     "output_type": "stream",
     "text": [
      "176/176 [==============================] - 3s 11ms/step - loss: 2.2434 - accuracy: 0.2181 - val_loss: 1.9667 - val_accuracy: 0.5356\n",
      "Epoch 2/15\n",
      "  1/176 [..............................] - ETA: 1s - loss: 1.9063 - accuracy: 0.6250"
     ]
    },
    {
     "name": "stderr",
     "output_type": "stream",
     "text": [
      "2022-12-15 09:43:35.382361: I tensorflow/core/grappler/optimizers/custom_graph_optimizer_registry.cc:113] Plugin optimizer for device_type GPU is enabled.\n"
     ]
    },
    {
     "name": "stdout",
     "output_type": "stream",
     "text": [
      "176/176 [==============================] - 2s 10ms/step - loss: 1.1796 - accuracy: 0.6924 - val_loss: 0.9181 - val_accuracy: 0.7072\n",
      "Epoch 3/15\n",
      "176/176 [==============================] - 2s 10ms/step - loss: 0.6882 - accuracy: 0.7926 - val_loss: 0.7723 - val_accuracy: 0.7464\n",
      "Epoch 4/15\n",
      "176/176 [==============================] - 2s 10ms/step - loss: 0.5748 - accuracy: 0.8247 - val_loss: 0.6850 - val_accuracy: 0.7716\n",
      "Epoch 5/15\n",
      "176/176 [==============================] - 2s 10ms/step - loss: 0.5133 - accuracy: 0.8441 - val_loss: 0.6333 - val_accuracy: 0.7852\n",
      "Epoch 6/15\n",
      "176/176 [==============================] - 2s 10ms/step - loss: 0.4749 - accuracy: 0.8556 - val_loss: 0.6023 - val_accuracy: 0.7984\n",
      "Epoch 7/15\n",
      "176/176 [==============================] - 2s 10ms/step - loss: 0.4427 - accuracy: 0.8662 - val_loss: 0.5604 - val_accuracy: 0.8148\n",
      "Epoch 8/15\n",
      "176/176 [==============================] - 2s 10ms/step - loss: 0.4171 - accuracy: 0.8753 - val_loss: 0.5317 - val_accuracy: 0.8220\n",
      "Epoch 9/15\n",
      "176/176 [==============================] - 2s 10ms/step - loss: 0.3957 - accuracy: 0.8824 - val_loss: 0.4999 - val_accuracy: 0.8312\n",
      "Epoch 10/15\n",
      "176/176 [==============================] - 2s 10ms/step - loss: 0.3745 - accuracy: 0.8876 - val_loss: 0.4767 - val_accuracy: 0.8440\n",
      "Epoch 11/15\n",
      "176/176 [==============================] - 2s 10ms/step - loss: 0.3557 - accuracy: 0.8938 - val_loss: 0.4531 - val_accuracy: 0.8480\n",
      "Epoch 12/15\n",
      "176/176 [==============================] - 2s 10ms/step - loss: 0.3405 - accuracy: 0.8982 - val_loss: 0.4368 - val_accuracy: 0.8496\n",
      "Epoch 13/15\n",
      "176/176 [==============================] - 2s 10ms/step - loss: 0.3218 - accuracy: 0.9030 - val_loss: 0.4037 - val_accuracy: 0.8672\n",
      "Epoch 14/15\n",
      "176/176 [==============================] - 2s 10ms/step - loss: 0.3113 - accuracy: 0.9049 - val_loss: 0.3831 - val_accuracy: 0.8680\n",
      "Epoch 15/15\n",
      "176/176 [==============================] - 2s 10ms/step - loss: 0.2954 - accuracy: 0.9129 - val_loss: 0.3690 - val_accuracy: 0.8764\n"
     ]
    },
    {
     "data": {
      "text/plain": [
       "<keras.callbacks.History at 0x2b55cdb80>"
      ]
     },
     "execution_count": 26,
     "metadata": {},
     "output_type": "execute_result"
    }
   ],
   "source": [
    "batch_size = 128\n",
    "epochs = 15\n",
    "\n",
    "model.compile(loss=\"categorical_crossentropy\", optimizer=\"adam\", metrics=[\"accuracy\"])\n",
    "\n",
    "model.fit(x_train, y_train, batch_size=batch_size, epochs=epochs, validation_split=0.1)\n",
    "\n"
   ]
  },
  {
   "cell_type": "code",
   "execution_count": null,
   "id": "494ed078",
   "metadata": {},
   "outputs": [],
   "source": []
  }
 ],
 "metadata": {
  "kernelspec": {
   "display_name": "Python 3 (ipykernel)",
   "language": "python",
   "name": "python3"
  },
  "language_info": {
   "codemirror_mode": {
    "name": "ipython",
    "version": 3
   },
   "file_extension": ".py",
   "mimetype": "text/x-python",
   "name": "python",
   "nbconvert_exporter": "python",
   "pygments_lexer": "ipython3",
   "version": "3.9.12"
  }
 },
 "nbformat": 4,
 "nbformat_minor": 5
}
